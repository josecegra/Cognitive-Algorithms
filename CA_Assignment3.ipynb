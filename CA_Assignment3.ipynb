{
 "cells": [
  {
   "cell_type": "markdown",
   "metadata": {},
   "source": [
    "# Cognitive Algorithms - Assignment 3 (30 points)\n",
    "Cognitive Algorithms        \n",
    "Summer term 2018      \n",
    "Technische Universität Berlin     \n",
    "Fachgebiet Maschinelles Lernen \n",
    "\n",
    "**Due on May 23, 2018 10am via ISIS **\n",
    "                    \n",
    "After completing all tasks, run the whole notebook so that the content of each cell is properly displayed. Make sure that the code was ran and the entire output (e.g. figures) is printed. Print the notebook as a PDF file and again make sure that all lines are readable - use line breaks in the Python Code '\\' if necessary. Points will be deducted, if code or content is not readable!                  \n",
    "           \n",
    "**Upload the PDF file that contains a copy of your notebook on ISIS.** "
   ]
  },
  {
   "cell_type": "markdown",
   "metadata": {},
   "source": [
    "Group:        \n",
    "Members:          "
   ]
  },
  {
   "cell_type": "markdown",
   "metadata": {},
   "source": [
    "# Part 1: Theory (13 points)\n",
    "---\n",
    "### Task 1: Multiple Choice Questions (2 points)"
   ]
  },
  {
   "cell_type": "markdown",
   "metadata": {},
   "source": [
    "**A)** The goal of LDA is to find a $\\mathbf w \\in \\mathbb{R}^d$ that ...\n",
    "- [ ] minimizes mean class difference and minimizes variance in each class              \n",
    "- [ ] minimizes mean class difference and maximizes variance in each class                    \n",
    "- [ ] maximizes mean class difference and maximizes variance in each class                \n",
    "- [X] maximizes mean class difference and minimizes variance in each class                    "
   ]
  },
  {
   "cell_type": "markdown",
   "metadata": {},
   "source": [
    "**B)** Below you can see a figure that shows a data set of two classes (blue and yellow) and three different lines. Assume NCC is trained on the given data. Which line corresponds to the resulting decision boundary of NCC.\n",
    "- [ ] The black line resembles the decision boundary given by NCC.              \n",
    "- [X] The red line resembles the decision boundary given by NCC.               \n",
    "- [ ] The green line resembles the decision boundary given by NCC.              "
   ]
  },
  {
   "cell_type": "markdown",
   "metadata": {},
   "source": [
    "![Figure_1](Figure_1.png)"
   ]
  },
  {
   "cell_type": "markdown",
   "metadata": {},
   "source": [
    "### Task 2: Covariance (11 points)\n",
    "Let $X$ and $Y$ be two random variables. In the lecture you learned about covariance and correlation.\n",
    "$$\\text{Cov}(X,Y) = \\mathbb{E}(((X-\\mathbb{E}(X))(Y-\\mathbb{E}(Y)))$$\n",
    "$$\\text{Corr}(X,Y) = \\frac{\\text{Cov}(X,Y)}{ \\sqrt{\\mathbb{V}(X)} \\sqrt{\\mathbb{V}(Y)} }$$\n",
    "\n",
    "**A) (1 point)** Let $X$ be a random variable. Show that \n",
    "$$\\text{Cov}(X,X) = \\mathbb{V}(X)$$\n",
    "where the variance of a random variable is defined as \n",
    "$$\\mathbb{V}(X) =  \\mathbb{E}((X-\\mathbb{E}(X))^2) = \\mathbb{E}(X^2) - \\mathbb{E}(X)^2$$"
   ]
  },
  {
   "cell_type": "markdown",
   "metadata": {},
   "source": [
    "$$\\text{Cov}(X,X) = \\mathbb{E}(((X-\\mathbb{E}(X))(X-\\mathbb{E}(X)))$$\n",
    "$$= \\mathbb{E}(X^2-2X\\mathbb{E}(X)+\\mathbb{E}(X)^2) = \\mathbb{E}(X^2) - 2\\mathbb{E}(X)\\mathbb{E}(X)+\\mathbb{E}(X)^2$$\n",
    "$$= \\mathbb{E}(X^2) - \\mathbb{E}(X)^2 = \\mathbb{V}(X)$$  "
   ]
  },
  {
   "cell_type": "markdown",
   "metadata": {},
   "source": [
    "**B) (1 point)** Use your results from A) to calculate the correlation\n",
    "$$\\text{Corr}(X,X)$$"
   ]
  },
  {
   "cell_type": "markdown",
   "metadata": {},
   "source": [
    "$$\\text{Corr}(X,X) = \\frac{\\text{Cov}(X,X)}{ \\sqrt{\\mathbb{V}(X)} \\sqrt{\\mathbb{V}(X)} }$$\n",
    "$$ = \\frac{\\mathbb{V}(X)}{ \\mathbb{V}(X) } = 1$$"
   ]
  },
  {
   "cell_type": "markdown",
   "metadata": {},
   "source": [
    "**C) (3 points)** Show that the algebraic formula for the variance can be generalized to covariance, i.e. show for two random variables $X$ and $Y$ that the covariance can be simplified to\n",
    "$$\\text{Cov}(X,Y) = \\mathbb{E}(XY) - \\mathbb{E}(X) \\mathbb{E}(Y)$$"
   ]
  },
  {
   "cell_type": "markdown",
   "metadata": {},
   "source": [
    "$$\\text{Cov}(X,Y) = \\mathbb{E}(((X-\\mathbb{E}(X))(Y-\\mathbb{E}(Y)))$$\n",
    "$$= \\mathbb{E}(XY - X\\mathbb{E}(Y) - Y\\mathbb{E}(X) + \\mathbb{E}(X)\\mathbb{E}(Y))$$ \n",
    "$$= \\mathbb{E}(XY) - \\mathbb{E}(X)\\mathbb{E}(Y) - \\mathbb{E}(Y)\\mathbb{E}(X) + \\mathbb{E}(X)\\mathbb{E}(Y)$$\n",
    "$$= \\mathbb{E}(XY) - \\mathbb{E}(X) \\mathbb{E}(Y)$$\n"
   ]
  },
  {
   "cell_type": "markdown",
   "metadata": {},
   "source": [
    "**D) (6 points)** Let $X \\in \\mathbb R^{D \\times N}$ be a data matrix that holds for each random variable $X_1, \\ldots X_D \\;$ $N$ observations, i.e. $X_d \\in \\mathbb{R}^N$. Use your results from task A)-C) to show, that if the data is centered ($\\forall_{d=1}^{D} \\mathbb{E}(X_d) = 0$) the empirical estimate of the covariance matrix is given by $S$, i.e.\n",
    "$$\\Sigma = \\left( \\begin{array}{rrrr} \\text{Cov}(X_1,X_1) & \\text{Cov}(X_1,X_2) & \\ldots & \\text{Cov}(X_1,X_D) \\\\ \\text{Cov}(X_2,X_1) & \\text{Cov}(X_2,X_2) & \\ldots & \\text{Cov}(X_2,X_D) \\\\ \\vdots & \\vdots & \\ddots & \\vdots \\\\ \\text{Cov}(X_D,X_1) & \\ldots & \\ldots & \\text{Cov}(X_D,X_D) \\end{array}\t\\right) \\approx \\frac{1}{N} X X^T = S$$\n",
    "*Hint:* Use the following properties     \n",
    "- $\\mathbb{E}(X_d) \\approx \\frac{1}{N} \\sum_{n=1}^{N} X_{d,n} = 0$               \n",
    "- $\\mathbb{E}(X_d X_{d'}) \\approx \\frac{1}{N} \\sum_{n=1}^{N} X_{d,n} X_{d',n}$                  \n",
    "- $\\text{Cov}(X_d, X_{d'}) = \\text{Cov}(X_{d'}, X_d)$                      "
   ]
  },
  {
   "cell_type": "markdown",
   "metadata": {},
   "source": [
    "$$\\text{Cov}(X_i, X_j) = \\mathbb{E}(X_i X_j) \\approx \\frac{1}{N} \\sum_{n=1}^{N} X_{i,n} X_{j,n}$$\n",
    "$$ = \\frac{1}{N} \\sum_{n=1}^{N} X_{i,n} X_{n,j}^T = \\frac{1}{N} (XX^T)_{i,j} = S_{i,j} $$"
   ]
  },
  {
   "cell_type": "markdown",
   "metadata": {},
   "source": [
    "# Part 2: Programming (17 points)\n",
    "---\n",
    "\n",
    "In this assignment you will compare the three linear classification algorithms that you encountered in the lecture - the Perceptron, the Nearest Centroid Classifier (NCC) and the Linear Discriminant Analysis (LDA). This comparision is done on a toy data set and on two different real data sets - the USPS data from the last assignment, and a Brain-Computer Interface (BCI) data set. \n",
    "\n",
    "Download the ```usps.mat``` and ```bcidata.mat``` data sets from the ISIS web site, if not done yet. Your task will be to implement LDA and use the provided code to analyse the data. \n",
    "\n",
    "The BCI data set consists of preprocessed EEG data $X \\in\\mathbb{R}^{5 \\times 62 \\times 5322}$ and stimulus labels $Y \\in\\mathbb R^{2 \\times 5322}$ during a copy-spelling paradigm with a P300 speller. The data matrix $X$ contains 5 selected time windows of EEG activity at 62 electrodes after a visual stimulus was presented on the screen in front of the participant. If the first row of $Y$ is 1, the stimulus was a target stimulus, if the second row of $Y$ is 1, the stimulus was a non-target stimulus. The goal is to predict if the simulus was a target or not given the EEG.        \n",
    "*Below you can find the provided code. Change the code only where indicated. See Part 2 Task A) for more information.*"
   ]
  },
  {
   "cell_type": "code",
<<<<<<< HEAD
   "execution_count": 1,
=======
   "execution_count": 4,
>>>>>>> 6351146fc3b4cb7fbe503c489808840783c4ab37
   "metadata": {
    "collapsed": true
   },
   "outputs": [],
   "source": [
    "import scipy as sp\n",
    "import scipy.io as io\n",
    "from scipy.linalg import inv\n",
    "import pylab as pl\n",
    "import numpy as np\n",
    "%matplotlib inline"
   ]
  },
  {
   "cell_type": "code",
<<<<<<< HEAD
   "execution_count": 2,
=======
   "execution_count": 5,
>>>>>>> 6351146fc3b4cb7fbe503c489808840783c4ab37
   "metadata": {
    "collapsed": true
   },
   "outputs": [],
   "source": [
    "def train_lda(X,Y):\n",
    "    ''' Trains a linear discriminant analysis\n",
    "    Definition:  w, b   = train_lda(X,Y)\n",
    "    Input:       X       -  DxN array of N data points with D features\n",
    "                 Y       -  1D array of length N of class labels {-1, 1}\n",
    "    Output:      w       -  1D array of length D, weight vector  \n",
    "                 b       -  bias term for linear classification                          \n",
    "    '''\n",
    "    indw1 = (Y == +1).nonzero()[0]\n",
    "    indw2 = (Y == -1).nonzero()[0]\n",
    "    w1 = np.sum(X[:,indw1],axis=1)/indw1.shape[0]\n",
    "    w2 = np.sum(X[:,indw2],axis=1)/indw2.shape[0]\n",
    "    S = np.cov(X)\n",
    "    w = sp.linalg.solve(S,w1-w2)\n",
    "    beta = 0.5*np.transpose(w).dot(w1+w2) + np.log(indw1.shape[0]/indw2.shape[0])\n",
    "    \n",
    "    return w,beta\n",
    "    \n",
    "    \n",
    "def load_usps_data(fname, digit=3):\n",
    "    ''' Loads USPS (United State Postal Service) data from <fname> \n",
    "    Definition:  X, Y = load_usps_data(fname, digit = 3)\n",
    "    Input:       fname   - string\n",
    "                 digit   - optional, integer between 0 and 9, default is 3\n",
    "    Output:      X       -  DxN array with N images with D pixels\n",
    "                 Y       -  1D array of length N of class labels\n",
    "                             (1 - picture displays <digit>, -1 - otherwise)                           \n",
    "    '''\n",
    "    # load the data\n",
    "    data = io.loadmat(fname)\n",
    "    # extract images and labels\n",
    "    X = data['data_patterns']\n",
    "    Y = data['data_labels']\n",
    "    Y = Y[digit,:]\n",
    "    return X, Y\n",
    "    \n",
    "    \n",
    "def load_bci_data(fname):\n",
    "    ''' Loads BCI data (one subject, copy-spelling experiment) from <fname> \n",
    "    Definition:  X, Y = load_bci_data(fname)\n",
    "    Input:       fname   - string\n",
    "    Output:      X       -  DxN array with N images with D pixels\n",
    "                 Y       -  1D array of length N of class labels \n",
    "                            (1- target, -1 - non-target)                         \n",
    "    '''\n",
    "    # load the data\n",
    "    data = io.loadmat(fname)\n",
    "    # extract time-electrode features and labels\n",
    "    X = data['X']\n",
    "    Y = data['Y']\n",
    "    # collapse the time-electrode dimensions\n",
    "    X = sp.reshape(X,(X.shape[0]*X.shape[1],X.shape[2]))\n",
    "    # transform the labels to (-1,1)\n",
    "    Y = sp.sign((Y[0,:]>0) -.5)\n",
    "    return X,Y\n",
    "\n",
    "def train_perceptron(X,Y,iterations=200,eta=.1):\n",
    "    ''' Trains a linear perceptron\n",
    "    Definition:  w, b, acc  = train_perceptron(X,Y,iterations=200,eta=.1)\n",
    "    Input:       X       -  DxN array of N data points with D features\n",
    "                 Y       -  1D array of length N of class labels {-1, 1}\n",
    "                 iter    -  optional, number of iterations, default 200\n",
    "                 eta     -  optional, learning rate, default 0.1\n",
    "    Output:      w       -  1D array of length D, weight vector \n",
    "                 b       -  bias term for linear classification                          \n",
    "    '''\n",
    "    #include the bias term by adding a row of ones to X \n",
    "    X = sp.concatenate((sp.ones((1,X.shape[1])), X))\n",
    "    #initialize weight vector\n",
    "    weights = sp.ones((X.shape[0]))/X.shape[0]\n",
    "    for it in sp.arange(iterations):\n",
    "        # indices of misclassified data\n",
    "        wrong = (sp.sign(weights.dot(X)) != Y).nonzero()[0]\n",
    "        if wrong.shape[0] > 0:\n",
    "            # pick a random misclassified data point\n",
    "            m = wrong[sp.random.randint(0, wrong.shape[0]-1)]\n",
    "            #update weight vector (use variable learning rate (eta/(1.+it)) )\n",
    "            weights = weights  + (eta/(1.+it)) * X[:, m] * Y[m]; \n",
    "            # compute accuracy\n",
    "            wrong = (sp.sign(weights.dot(X)) != Y).nonzero()[0]\n",
    "    b = -weights[0] \n",
    "    w = weights[1:]\n",
    "    return w,b\n",
    "\n",
    "def train_ncc(X,Y):\n",
    "    ''' Trains a nearest centroid classifier\n",
    "    Definition:  w, b   = train_ncc(X,Y)\n",
    "    Input:       X       -  DxN array of N data points with D features\n",
    "                 Y       -  1D array of length N of class labels {-1, 1}\n",
    "    Output:      w       -  1D array of length D, weight vector  \n",
    "                 b       -  bias term for linear classification                          \n",
    "    '''\n",
    "    #class means\n",
    "    mupos = sp.mean(X[:,Y>0],axis=1)\n",
    "    muneg = sp.mean(X[:,Y<0],axis=1)\n",
    "    #weight vector and bias term\n",
    "    w = mupos - muneg\n",
    "    b = (w.dot(mupos) + w.dot(muneg))/2.\n",
    "    return w,b\n",
    "    \n",
    "def plot_histogram(X, Y, w, b, cname):\n",
    "    ''' Plots a histogram of classifier outputs (w^T X) for each class \n",
    "    Input:          X       -  DxN array of N data points with D features\n",
    "                    Y       -  1D array of length N of class labels\n",
    "                    w       -  1D array of length D, weight vector \n",
    "                    b       -  bias term for linear classification  \n",
    "                    cname   - name of the classifier \n",
    "    '''\n",
    "    pl.hist((w.dot(X[:,Y<0]), w.dot(X[:,Y>0])))\n",
    "    pl.xlabel(\"w^T X\")\n",
    "    pl.title(cname + ' ' + str(100*sp.sum(sp.sign(w.dot(X)-b)==Y)/X.shape[1]) + \"%\")   \n",
    "     \n",
    "def compare_classifiers_toy():\n",
    "    '''\n",
    "    Compares 3 different linear classifiers (Nearest-Centroid, Linear Discriminant Analysis, \n",
    "    Perceptron) on 2 dimensional toy data\n",
    "    '''\n",
    "    #generate 2D data\n",
    "    N =500\n",
    "    cov = sp.array([[5, 0], [0, 0.5]])\n",
    "    x1 = sp.random.multivariate_normal([-0.5, -0.5], cov, N) \n",
    "    x2 = sp.random.multivariate_normal([2.5, 0.5], cov, N) \n",
    "    X = sp.vstack((x1, x2)).transpose()\n",
    "    Y = sp.hstack((sp.ones((N)), -1*sp.ones((N))))\n",
    "    \n",
    "    #train NCC, LDA and Perceptron\n",
    "    w_ncc,b_ncc = train_ncc(X,Y)\n",
    "    w_lda,b_lda = train_lda(X,Y)\n",
    "    w_per,b_per = train_perceptron(X,Y)\n",
    "       \n",
    "    #plot result\n",
    "    pl.figure()\n",
    "    b_ncc = 10*b_ncc / sp.linalg.norm(w_ncc)\n",
    "    b_lda = 10*b_lda / sp.linalg.norm(w_lda)\n",
    "    b_per = 10*b_per / sp.linalg.norm(w_per)\n",
    "    w_lda = 10*w_lda / sp.linalg.norm(w_lda)\n",
    "    w_ncc = 10*w_ncc / sp.linalg.norm(w_ncc)\n",
    "    w_per = 10*w_per / sp.linalg.norm(w_per)\n",
    "    pl.plot([-w_lda[1], w_lda[1]], [w_lda[0]+b_lda/w_lda[1], -w_lda[0]+b_lda/w_lda[1]], \n",
    "        color = 'k', label='LDA: Acc ' + str(100*sp.sum(sp.sign(w_lda.dot(X)-b_lda)==Y)/X.shape[1]) + \"%\")\n",
    "    pl.plot([-w_ncc[1], w_ncc[1]], [w_ncc[0]+b_ncc/w_ncc[1], -w_ncc[0]+b_ncc/w_ncc[1]], \n",
    "        color = 'r', linestyle = '--', label='NCC: Acc ' + str(100*sp.sum(sp.sign(w_ncc.dot(X)-b_ncc)==Y)/X.shape[1]) + \"%\")\n",
    "    pl.plot([-w_per[1], w_per[1]], [w_per[0]+b_per/w_per[1], -w_per[0]+b_per/w_per[1]], \n",
    "        color = 'g', linestyle = ':', label='PER: Acc ' + str(100*sp.sum(sp.sign(w_per.dot(X)-b_per)==Y)/X.shape[1]) + \"%\")\n",
    "    pl.plot(x1[:,0], x1[:,1], 'y+')\n",
    "    pl.plot(x2[:,0], x2[:,1], 'b+')\n",
    "    pl.axis('equal')\n",
    "    pl.legend(loc=1)\n",
    "\n",
    "def compare_classifiers(usps = True, digit = 3):\n",
    "    '''\n",
    "    Compares 3 different linear classifiers (Nearest-Centroid, Linear Discriminant Analysis, \n",
    "    Perceptron) on either USPS data (for usps=True) or on BCI data (for usps = False)\n",
    "    '''\n",
    "    if usps: #load usps data set\n",
    "        X,Y = load_usps_data('usps.mat',digit)\n",
    "        tit = 'USPS(' + str(digit) + ')'\n",
    "    else: #load bci data set \n",
    "        X,Y = load_bci_data('bcidata.mat')\n",
    "        tit = 'BCI'\n",
    "    \n",
    "    #Use crossvalidation to estimate the training and test accuracies\n",
    "    acc_cv = sp.zeros((5, 6))\n",
    "    (acc_cv[:,0],acc_cv[:,1]) = crossvalidate(X,Y,trainfun=train_ncc)\n",
    "    (acc_cv[:,2],acc_cv[:,3]) = crossvalidate(X,Y,trainfun=train_lda)\n",
    "    (acc_cv[:,4],acc_cv[:,5]) = crossvalidate(X,Y,trainfun=train_perceptron)\n",
    "        \n",
    "    #Plot the crossvalidation output\n",
    "    pl.figure()\n",
    "    ax1 = pl.subplot2grid((2,3), (0,0), colspan = 3)\n",
    "    pl.bar(sp.array([1, 2, 3, 4, 5, 6]) - 0.4,  acc_cv.mean(0), width = 0.8,\n",
    "        yerr =  acc_cv.std(0), ecolor = 'k', color = 'g')\n",
    "    pl.xticks([1, 2, 3, 4, 5, 6], ['NCC tain', 'NCC test', 'LDA train', 'LDA test', \n",
    "        'PER train', 'PER test'])\n",
    "    pl.xlim([0, 7])\n",
    "    pl.ylim([0.5, 1])\n",
    "    pl.ylabel('CV Accuracy')\n",
    "    pl.title(tit + ' data set')\n",
    "\n",
    "    #Train the classifiers and plot the output histograms\n",
    "    w_ncc,b_ncc = train_ncc(X,Y)\n",
    "    w_lda,b_lda = train_lda(X,Y)\n",
    "    w_per,b_per= train_perceptron(X,Y)\n",
    "    \n",
    "    ax2 = pl.subplot2grid((2,3), (1,0))\n",
    "    plot_histogram(X, Y, w_ncc, b_ncc, 'NCC')\n",
    "    ax3 = pl.subplot2grid((2,3), (1,1))\n",
    "    plot_histogram(X, Y, w_lda, b_lda, 'LDA')\n",
    "    ax4 = pl.subplot2grid((2,3), (1,2))\n",
    "    plot_histogram(X, Y, w_per, b_per, 'PER')\n",
    "\n",
    "def crossvalidate(X,Y, f=5, trainfun=train_ncc):\n",
    "    ''' \n",
    "    Test generalization performance of a linear classifier by crossvalidation\n",
    "    Definition:     crossvalidate(X,Y, f=5, trainfun=train_ncc)\n",
    "    Input:      X        -  DxN array of N data points with D features\n",
    "                Y        -  1D array of length N of class labels\n",
    "                f        - number of cross-validation folds\n",
    "                trainfun - function for linear classification training\n",
    "    Output:     acc_train - (f,) array of accuracies in test train folds\n",
    "                acc_test  - (f,) array of accuracies in each test fold\n",
    "    '''\n",
<<<<<<< HEAD
    "    #N = f*(X.shape[-1]/f)\n",
    "    #idx = sp.reshape(sp.arange(N),(f,N/f))\n",
    "    N = f*(X.shape[-1]//f)\n",
    "    idx = sp.reshape(sp.arange(N),(f,N//f))\n",
=======
    "    N = f*(X.shape[-1]/f)\n",
    "    idx = sp.reshape(sp.arange(N),(f,N/f))\n",
>>>>>>> 6351146fc3b4cb7fbe503c489808840783c4ab37
    "    acc_train = sp.zeros((f))\n",
    "    acc_test = sp.zeros((f))\n",
    "    \n",
    "    for ifold in sp.arange(f):\n",
    "        testidx = sp.zeros((f),dtype=bool)\n",
    "        testidx[ifold] = 1\n",
    "        test = idx[testidx,:].flatten()\n",
    "        train = idx[~testidx,:].flatten()\n",
    "        w,b = trainfun(X[:,train],Y[train])\n",
    "        acc_train[ifold] = sp.sum(sp.sign(w.dot(X[:,train])-b)==Y[train])/sp.double(train.shape[0])\n",
    "        acc_test[ifold] = sp.sum(sp.sign(w.dot(X[:,test])-b)==Y[test])/sp.double(test.shape[0])\n",
    "    \n",
    "    return acc_train,acc_test"
   ]
  },
  {
   "cell_type": "markdown",
   "metadata": {},
   "source": [
    "**A) (7 points)** Implement a linear discriminant analysis (LDA) classifer by completing the function stub  ```train_lda```, that is, find a \n",
    "vector $\\mathbf{w}$ such that  \n",
    "$$\\mathbf{w} = \\underset{\\mathbf{w}}{\\text{argmax}} \\; \\frac{\\mathbf{w}^T S_B \\mathbf{w}}{\\mathbf{w}^T S_{W} \\mathbf{w}}$$\n",
    "where $S_B$ denotes the 'between-class scatter' and $S_W$ denotes the 'within-class scatter'\n",
    "\\begin{eqnarray*}\n",
    "S_B &= & (\\mathbf w_+ - \\mathbf w_{-})(\\mathbf w_+ - \\mathbf w_{-})^T \\\\\n",
    "S_W &= & \\frac{1}{N_{+}} \\sum_{i=1}^{N_{+}}(\\mathbf x_{+i} - \\mathbf w_{+})  (\\mathbf x_{+i} - \\mathbf w_{+})^T + \\frac{1}{N_{-}} \\sum_{i=1}^{N_{-}}(\\mathbf x_{-i} - \\mathbf w_{-})  (\\mathbf x_{-i} - \\mathbf w_{-})^T\n",
    "\\end{eqnarray*}\n",
    "and $\\mathbf w_{+}$, $\\mathbf w_{-}$ denote the respective class means. "
   ]
  },
  {
   "cell_type": "markdown",
   "metadata": {},
   "source": [
    "**B) (5 points)** Test your LDA implementation with the provided function ```compare_classifiers_toy```. It generates a 2D toy data set and plots the resulting separating hyperplanes for the three linear classification methods. Answer the following short questions: \n",
    "- Run the function several times - what do you notice for the Perceptron as compared to NCC or LDA? In one sentence, explain the behaviour of the perceptron. \n",
    "- Have a look in the code how the toy data is generated - is LDA optimal for this type of data? Why?\n",
    "- How would you have to change the data generation such that NCC and LDA yield the same result? Why?\n"
   ]
  },
  {
   "cell_type": "markdown",
   "metadata": {},
   "source": [
    "**[Your answers for B) here]**"
   ]
  },
  {
   "cell_type": "code",
<<<<<<< HEAD
   "execution_count": 3,
=======
   "execution_count": 6,
>>>>>>> 6351146fc3b4cb7fbe503c489808840783c4ab37
   "metadata": {},
   "outputs": [
    {
     "data": {
<<<<<<< HEAD
      "image/png": "iVBORw0KGgoAAAANSUhEUgAAAXYAAAD8CAYAAABjAo9vAAAABHNCSVQICAgIfAhkiAAAAAlwSFlz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\n",
      "text/plain": [
       "<matplotlib.figure.Figure at 0x257e9dd710>"
=======
      "image/png": "iVBORw0KGgoAAAANSUhEUgAAAYAAAAD8CAYAAAB+UHOxAAAABHNCSVQICAgIfAhkiAAAAAlwSFlz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\nqAJQFEWpovx/43UyG6MRlagAAAAASUVORK5CYII=\n",
      "text/plain": [
       "<matplotlib.figure.Figure at 0x3f485f5470>"
>>>>>>> 6351146fc3b4cb7fbe503c489808840783c4ab37
      ]
     },
     "metadata": {},
     "output_type": "display_data"
    }
   ],
   "source": [
    "compare_classifiers_toy()"
   ]
  },
  {
   "cell_type": "markdown",
   "metadata": {},
   "source": [
    "**C) (1 points)** Call ```compare_classifiers``` for a digit of your choice of the USPS data set, as well as for the BCI data. It plots the histogram of classifier outputs and the classification accuracies for the NCC, the LDA and the perceptron. Which algorithm (Nearest Centroid Classifier, Linear Discriminant Analysis or Perceptron) would you prefer for which task? Why?"
   ]
  },
  {
   "cell_type": "markdown",
   "metadata": {},
   "source": [
    "**[Your answers for C) here]**"
   ]
  },
  {
   "cell_type": "code",
<<<<<<< HEAD
   "execution_count": 4,
   "metadata": {},
   "outputs": [
    {
     "data": {
      "image/png": "iVBORw0KGgoAAAANSUhEUgAAAZMAAAEWCAYAAACjYXoKAAAABHNCSVQICAgIfAhkiAAAAAlwSFlz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\n",
      "text/plain": [
       "<matplotlib.figure.Figure at 0x257cc02a58>"
      ]
     },
     "metadata": {},
     "output_type": "display_data"
    },
    {
     "data": {
      "image/png": "iVBORw0KGgoAAAANSUhEUgAAAZMAAAEWCAYAAACjYXoKAAAABHNCSVQICAgIfAhkiAAAAAlwSFlz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\nA3ocK8sOTEwxAAAAAElFTkSuQmCC\n",
      "text/plain": [
       "<matplotlib.figure.Figure at 0x257ce2dc18>"
      ]
     },
     "metadata": {},
     "output_type": "display_data"
=======
   "execution_count": 7,
   "metadata": {},
   "outputs": [
    {
     "ename": "TypeError",
     "evalue": "'float' object cannot be interpreted as an integer",
     "output_type": "error",
     "traceback": [
      "\u001b[1;31m---------------------------------------------------------------------------\u001b[0m",
      "\u001b[1;31mTypeError\u001b[0m                                 Traceback (most recent call last)",
      "\u001b[1;32m~\\Anaconda3\\lib\\site-packages\\numpy\\core\\fromnumeric.py\u001b[0m in \u001b[0;36m_wrapfunc\u001b[1;34m(obj, method, *args, **kwds)\u001b[0m\n\u001b[0;32m     56\u001b[0m     \u001b[1;32mtry\u001b[0m\u001b[1;33m:\u001b[0m\u001b[1;33m\u001b[0m\u001b[0m\n\u001b[1;32m---> 57\u001b[1;33m         \u001b[1;32mreturn\u001b[0m \u001b[0mgetattr\u001b[0m\u001b[1;33m(\u001b[0m\u001b[0mobj\u001b[0m\u001b[1;33m,\u001b[0m \u001b[0mmethod\u001b[0m\u001b[1;33m)\u001b[0m\u001b[1;33m(\u001b[0m\u001b[1;33m*\u001b[0m\u001b[0margs\u001b[0m\u001b[1;33m,\u001b[0m \u001b[1;33m**\u001b[0m\u001b[0mkwds\u001b[0m\u001b[1;33m)\u001b[0m\u001b[1;33m\u001b[0m\u001b[0m\n\u001b[0m\u001b[0;32m     58\u001b[0m \u001b[1;33m\u001b[0m\u001b[0m\n",
      "\u001b[1;31mTypeError\u001b[0m: 'float' object cannot be interpreted as an integer",
      "\nDuring handling of the above exception, another exception occurred:\n",
      "\u001b[1;31mTypeError\u001b[0m                                 Traceback (most recent call last)",
      "\u001b[1;32m<ipython-input-7-3083b4a0a871>\u001b[0m in \u001b[0;36m<module>\u001b[1;34m()\u001b[0m\n\u001b[1;32m----> 1\u001b[1;33m \u001b[0mcompare_classifiers\u001b[0m\u001b[1;33m(\u001b[0m\u001b[1;33m)\u001b[0m\u001b[1;33m\u001b[0m\u001b[0m\n\u001b[0m\u001b[0;32m      2\u001b[0m \u001b[0mcompare_classifiers\u001b[0m\u001b[1;33m(\u001b[0m\u001b[1;32mFalse\u001b[0m\u001b[1;33m)\u001b[0m\u001b[1;33m\u001b[0m\u001b[0m\n",
      "\u001b[1;32m<ipython-input-5-b28fcbf888d9>\u001b[0m in \u001b[0;36mcompare_classifiers\u001b[1;34m(usps, digit)\u001b[0m\n\u001b[0;32m    162\u001b[0m     \u001b[1;31m#Use crossvalidation to estimate the training and test accuracies\u001b[0m\u001b[1;33m\u001b[0m\u001b[1;33m\u001b[0m\u001b[0m\n\u001b[0;32m    163\u001b[0m     \u001b[0macc_cv\u001b[0m \u001b[1;33m=\u001b[0m \u001b[0msp\u001b[0m\u001b[1;33m.\u001b[0m\u001b[0mzeros\u001b[0m\u001b[1;33m(\u001b[0m\u001b[1;33m(\u001b[0m\u001b[1;36m5\u001b[0m\u001b[1;33m,\u001b[0m \u001b[1;36m6\u001b[0m\u001b[1;33m)\u001b[0m\u001b[1;33m)\u001b[0m\u001b[1;33m\u001b[0m\u001b[0m\n\u001b[1;32m--> 164\u001b[1;33m     \u001b[1;33m(\u001b[0m\u001b[0macc_cv\u001b[0m\u001b[1;33m[\u001b[0m\u001b[1;33m:\u001b[0m\u001b[1;33m,\u001b[0m\u001b[1;36m0\u001b[0m\u001b[1;33m]\u001b[0m\u001b[1;33m,\u001b[0m\u001b[0macc_cv\u001b[0m\u001b[1;33m[\u001b[0m\u001b[1;33m:\u001b[0m\u001b[1;33m,\u001b[0m\u001b[1;36m1\u001b[0m\u001b[1;33m]\u001b[0m\u001b[1;33m)\u001b[0m \u001b[1;33m=\u001b[0m \u001b[0mcrossvalidate\u001b[0m\u001b[1;33m(\u001b[0m\u001b[0mX\u001b[0m\u001b[1;33m,\u001b[0m\u001b[0mY\u001b[0m\u001b[1;33m,\u001b[0m\u001b[0mtrainfun\u001b[0m\u001b[1;33m=\u001b[0m\u001b[0mtrain_ncc\u001b[0m\u001b[1;33m)\u001b[0m\u001b[1;33m\u001b[0m\u001b[0m\n\u001b[0m\u001b[0;32m    165\u001b[0m     \u001b[1;33m(\u001b[0m\u001b[0macc_cv\u001b[0m\u001b[1;33m[\u001b[0m\u001b[1;33m:\u001b[0m\u001b[1;33m,\u001b[0m\u001b[1;36m2\u001b[0m\u001b[1;33m]\u001b[0m\u001b[1;33m,\u001b[0m\u001b[0macc_cv\u001b[0m\u001b[1;33m[\u001b[0m\u001b[1;33m:\u001b[0m\u001b[1;33m,\u001b[0m\u001b[1;36m3\u001b[0m\u001b[1;33m]\u001b[0m\u001b[1;33m)\u001b[0m \u001b[1;33m=\u001b[0m \u001b[0mcrossvalidate\u001b[0m\u001b[1;33m(\u001b[0m\u001b[0mX\u001b[0m\u001b[1;33m,\u001b[0m\u001b[0mY\u001b[0m\u001b[1;33m,\u001b[0m\u001b[0mtrainfun\u001b[0m\u001b[1;33m=\u001b[0m\u001b[0mtrain_lda\u001b[0m\u001b[1;33m)\u001b[0m\u001b[1;33m\u001b[0m\u001b[0m\n\u001b[0;32m    166\u001b[0m     \u001b[1;33m(\u001b[0m\u001b[0macc_cv\u001b[0m\u001b[1;33m[\u001b[0m\u001b[1;33m:\u001b[0m\u001b[1;33m,\u001b[0m\u001b[1;36m4\u001b[0m\u001b[1;33m]\u001b[0m\u001b[1;33m,\u001b[0m\u001b[0macc_cv\u001b[0m\u001b[1;33m[\u001b[0m\u001b[1;33m:\u001b[0m\u001b[1;33m,\u001b[0m\u001b[1;36m5\u001b[0m\u001b[1;33m]\u001b[0m\u001b[1;33m)\u001b[0m \u001b[1;33m=\u001b[0m \u001b[0mcrossvalidate\u001b[0m\u001b[1;33m(\u001b[0m\u001b[0mX\u001b[0m\u001b[1;33m,\u001b[0m\u001b[0mY\u001b[0m\u001b[1;33m,\u001b[0m\u001b[0mtrainfun\u001b[0m\u001b[1;33m=\u001b[0m\u001b[0mtrain_perceptron\u001b[0m\u001b[1;33m)\u001b[0m\u001b[1;33m\u001b[0m\u001b[0m\n",
      "\u001b[1;32m<ipython-input-5-b28fcbf888d9>\u001b[0m in \u001b[0;36mcrossvalidate\u001b[1;34m(X, Y, f, trainfun)\u001b[0m\n\u001b[0;32m    202\u001b[0m     '''\n\u001b[0;32m    203\u001b[0m     \u001b[0mN\u001b[0m \u001b[1;33m=\u001b[0m \u001b[0mf\u001b[0m\u001b[1;33m*\u001b[0m\u001b[1;33m(\u001b[0m\u001b[0mX\u001b[0m\u001b[1;33m.\u001b[0m\u001b[0mshape\u001b[0m\u001b[1;33m[\u001b[0m\u001b[1;33m-\u001b[0m\u001b[1;36m1\u001b[0m\u001b[1;33m]\u001b[0m\u001b[1;33m/\u001b[0m\u001b[0mf\u001b[0m\u001b[1;33m)\u001b[0m\u001b[1;33m\u001b[0m\u001b[0m\n\u001b[1;32m--> 204\u001b[1;33m     \u001b[0midx\u001b[0m \u001b[1;33m=\u001b[0m \u001b[0msp\u001b[0m\u001b[1;33m.\u001b[0m\u001b[0mreshape\u001b[0m\u001b[1;33m(\u001b[0m\u001b[0msp\u001b[0m\u001b[1;33m.\u001b[0m\u001b[0marange\u001b[0m\u001b[1;33m(\u001b[0m\u001b[0mN\u001b[0m\u001b[1;33m)\u001b[0m\u001b[1;33m,\u001b[0m\u001b[1;33m(\u001b[0m\u001b[0mf\u001b[0m\u001b[1;33m,\u001b[0m\u001b[0mN\u001b[0m\u001b[1;33m/\u001b[0m\u001b[0mf\u001b[0m\u001b[1;33m)\u001b[0m\u001b[1;33m)\u001b[0m\u001b[1;33m\u001b[0m\u001b[0m\n\u001b[0m\u001b[0;32m    205\u001b[0m     \u001b[0macc_train\u001b[0m \u001b[1;33m=\u001b[0m \u001b[0msp\u001b[0m\u001b[1;33m.\u001b[0m\u001b[0mzeros\u001b[0m\u001b[1;33m(\u001b[0m\u001b[1;33m(\u001b[0m\u001b[0mf\u001b[0m\u001b[1;33m)\u001b[0m\u001b[1;33m)\u001b[0m\u001b[1;33m\u001b[0m\u001b[0m\n\u001b[0;32m    206\u001b[0m     \u001b[0macc_test\u001b[0m \u001b[1;33m=\u001b[0m \u001b[0msp\u001b[0m\u001b[1;33m.\u001b[0m\u001b[0mzeros\u001b[0m\u001b[1;33m(\u001b[0m\u001b[1;33m(\u001b[0m\u001b[0mf\u001b[0m\u001b[1;33m)\u001b[0m\u001b[1;33m)\u001b[0m\u001b[1;33m\u001b[0m\u001b[0m\n",
      "\u001b[1;32m~\\Anaconda3\\lib\\site-packages\\numpy\\core\\fromnumeric.py\u001b[0m in \u001b[0;36mreshape\u001b[1;34m(a, newshape, order)\u001b[0m\n\u001b[0;32m    230\u001b[0m            [5, 6]])\n\u001b[0;32m    231\u001b[0m     \"\"\"\n\u001b[1;32m--> 232\u001b[1;33m     \u001b[1;32mreturn\u001b[0m \u001b[0m_wrapfunc\u001b[0m\u001b[1;33m(\u001b[0m\u001b[0ma\u001b[0m\u001b[1;33m,\u001b[0m \u001b[1;34m'reshape'\u001b[0m\u001b[1;33m,\u001b[0m \u001b[0mnewshape\u001b[0m\u001b[1;33m,\u001b[0m \u001b[0morder\u001b[0m\u001b[1;33m=\u001b[0m\u001b[0morder\u001b[0m\u001b[1;33m)\u001b[0m\u001b[1;33m\u001b[0m\u001b[0m\n\u001b[0m\u001b[0;32m    233\u001b[0m \u001b[1;33m\u001b[0m\u001b[0m\n\u001b[0;32m    234\u001b[0m \u001b[1;33m\u001b[0m\u001b[0m\n",
      "\u001b[1;32m~\\Anaconda3\\lib\\site-packages\\numpy\\core\\fromnumeric.py\u001b[0m in \u001b[0;36m_wrapfunc\u001b[1;34m(obj, method, *args, **kwds)\u001b[0m\n\u001b[0;32m     65\u001b[0m     \u001b[1;31m# a downstream library like 'pandas'.\u001b[0m\u001b[1;33m\u001b[0m\u001b[1;33m\u001b[0m\u001b[0m\n\u001b[0;32m     66\u001b[0m     \u001b[1;32mexcept\u001b[0m \u001b[1;33m(\u001b[0m\u001b[0mAttributeError\u001b[0m\u001b[1;33m,\u001b[0m \u001b[0mTypeError\u001b[0m\u001b[1;33m)\u001b[0m\u001b[1;33m:\u001b[0m\u001b[1;33m\u001b[0m\u001b[0m\n\u001b[1;32m---> 67\u001b[1;33m         \u001b[1;32mreturn\u001b[0m \u001b[0m_wrapit\u001b[0m\u001b[1;33m(\u001b[0m\u001b[0mobj\u001b[0m\u001b[1;33m,\u001b[0m \u001b[0mmethod\u001b[0m\u001b[1;33m,\u001b[0m \u001b[1;33m*\u001b[0m\u001b[0margs\u001b[0m\u001b[1;33m,\u001b[0m \u001b[1;33m**\u001b[0m\u001b[0mkwds\u001b[0m\u001b[1;33m)\u001b[0m\u001b[1;33m\u001b[0m\u001b[0m\n\u001b[0m\u001b[0;32m     68\u001b[0m \u001b[1;33m\u001b[0m\u001b[0m\n\u001b[0;32m     69\u001b[0m \u001b[1;33m\u001b[0m\u001b[0m\n",
      "\u001b[1;32m~\\Anaconda3\\lib\\site-packages\\numpy\\core\\fromnumeric.py\u001b[0m in \u001b[0;36m_wrapit\u001b[1;34m(obj, method, *args, **kwds)\u001b[0m\n\u001b[0;32m     45\u001b[0m     \u001b[1;32mexcept\u001b[0m \u001b[0mAttributeError\u001b[0m\u001b[1;33m:\u001b[0m\u001b[1;33m\u001b[0m\u001b[0m\n\u001b[0;32m     46\u001b[0m         \u001b[0mwrap\u001b[0m \u001b[1;33m=\u001b[0m \u001b[1;32mNone\u001b[0m\u001b[1;33m\u001b[0m\u001b[0m\n\u001b[1;32m---> 47\u001b[1;33m     \u001b[0mresult\u001b[0m \u001b[1;33m=\u001b[0m \u001b[0mgetattr\u001b[0m\u001b[1;33m(\u001b[0m\u001b[0masarray\u001b[0m\u001b[1;33m(\u001b[0m\u001b[0mobj\u001b[0m\u001b[1;33m)\u001b[0m\u001b[1;33m,\u001b[0m \u001b[0mmethod\u001b[0m\u001b[1;33m)\u001b[0m\u001b[1;33m(\u001b[0m\u001b[1;33m*\u001b[0m\u001b[0margs\u001b[0m\u001b[1;33m,\u001b[0m \u001b[1;33m**\u001b[0m\u001b[0mkwds\u001b[0m\u001b[1;33m)\u001b[0m\u001b[1;33m\u001b[0m\u001b[0m\n\u001b[0m\u001b[0;32m     48\u001b[0m     \u001b[1;32mif\u001b[0m \u001b[0mwrap\u001b[0m\u001b[1;33m:\u001b[0m\u001b[1;33m\u001b[0m\u001b[0m\n\u001b[0;32m     49\u001b[0m         \u001b[1;32mif\u001b[0m \u001b[1;32mnot\u001b[0m \u001b[0misinstance\u001b[0m\u001b[1;33m(\u001b[0m\u001b[0mresult\u001b[0m\u001b[1;33m,\u001b[0m \u001b[0mmu\u001b[0m\u001b[1;33m.\u001b[0m\u001b[0mndarray\u001b[0m\u001b[1;33m)\u001b[0m\u001b[1;33m:\u001b[0m\u001b[1;33m\u001b[0m\u001b[0m\n",
      "\u001b[1;31mTypeError\u001b[0m: 'float' object cannot be interpreted as an integer"
     ]
>>>>>>> 6351146fc3b4cb7fbe503c489808840783c4ab37
    }
   ],
   "source": [
    "compare_classifiers()\n",
    "compare_classifiers(False)"
   ]
  },
  {
   "cell_type": "markdown",
   "metadata": {},
   "source": [
    "**D) (4 points)** Briefly explain in your own words how crossvalidation is done. To do so, you can examine the function ```crossvalidate```. When we want to compare the performance of different classifiers, which values should we look at - the train or the test accuracies? Why?"
   ]
  },
  {
   "cell_type": "markdown",
   "metadata": {},
   "source": [
    "**[Your answers for D) here]**"
   ]
  }
 ],
 "metadata": {
  "anaconda-cloud": {},
  "kernelspec": {
   "display_name": "Python 3",
   "language": "python",
   "name": "python3"
  },
  "language_info": {
   "codemirror_mode": {
    "name": "ipython",
    "version": 3
   },
   "file_extension": ".py",
   "mimetype": "text/x-python",
   "name": "python",
   "nbconvert_exporter": "python",
   "pygments_lexer": "ipython3",
   "version": "3.6.3"
  }
 },
 "nbformat": 4,
 "nbformat_minor": 1
}
